{
 "nbformat": 4,
 "nbformat_minor": 0,
 "metadata": {
  "colab": {
   "name": "idinvert-encoder-training.ipynb",
   "provenance": [],
   "collapsed_sections": []
  },
  "kernelspec": {
   "name": "python3",
   "display_name": "Python 3"
  },
  "accelerator": "GPU"
 },
 "cells": [
  {
   "cell_type": "code",
   "metadata": {
    "colab": {
     "base_uri": "https://localhost:8080/"
    },
    "id": "F2FTz4gWBWs9",
    "outputId": "2ff97bf4-29ff-4e79-d539-d4349e7d334e"
   },
   "source": [
    "!git clone https://github.com/bryandlee/stylegan2-encoder-pytorch.git"
   ],
   "execution_count": null,
   "outputs": [
    {
     "output_type": "stream",
     "text": [
      "fatal: destination path 'stylegan2-encoder-pytorch' already exists and is not an empty directory.\n"
     ],
     "name": "stdout"
    }
   ]
  },
  {
   "cell_type": "code",
   "metadata": {
    "colab": {
     "base_uri": "https://localhost:8080/"
    },
    "id": "ENS4CE7s2J8v",
    "outputId": "0fca66f0-f2fa-4fd5-ca36-dbd1af0d1619"
   },
   "source": [
    "!nvidia-smi"
   ],
   "execution_count": null,
   "outputs": [
    {
     "output_type": "stream",
     "text": [
      "Sat Feb  6 13:57:19 2021       \n",
      "+-----------------------------------------------------------------------------+\n",
      "| NVIDIA-SMI 460.39       Driver Version: 418.67       CUDA Version: 10.1     |\n",
      "|-------------------------------+----------------------+----------------------+\n",
      "| GPU  Name        Persistence-M| Bus-Id        Disp.A | Volatile Uncorr. ECC |\n",
      "| Fan  Temp  Perf  Pwr:Usage/Cap|         Memory-Usage | GPU-Util  Compute M. |\n",
      "|                               |                      |               MIG M. |\n",
      "|===============================+======================+======================|\n",
      "|   0  Tesla P100-PCIE...  Off  | 00000000:00:04.0 Off |                    0 |\n",
      "| N/A   51C    P0    29W / 250W |      0MiB / 16280MiB |      0%      Default |\n",
      "|                               |                      |                 ERR! |\n",
      "+-------------------------------+----------------------+----------------------+\n",
      "                                                                               \n",
      "+-----------------------------------------------------------------------------+\n",
      "| Processes:                                                                  |\n",
      "|  GPU   GI   CI        PID   Type   Process name                  GPU Memory |\n",
      "|        ID   ID                                                   Usage      |\n",
      "|=============================================================================|\n",
      "|  No running processes found                                                 |\n",
      "+-----------------------------------------------------------------------------+\n"
     ],
     "name": "stdout"
    }
   ]
  },
  {
   "cell_type": "code",
   "metadata": {
    "colab": {
     "base_uri": "https://localhost:8080/"
    },
    "id": "12OOF3L8BeJQ",
    "outputId": "2b474060-d0c9-42c9-a508-996ee7bc61a2"
   },
   "source": [
    "%cd stylegan2-encoder-pytorch"
   ],
   "execution_count": null,
   "outputs": [
    {
     "output_type": "stream",
     "text": [
      "/content/stylegan2-encoder-pytorch\n"
     ],
     "name": "stdout"
    }
   ]
  },
  {
   "cell_type": "code",
   "metadata": {
    "colab": {
     "base_uri": "https://localhost:8080/"
    },
    "id": "ue8d1ymjB7xw",
    "outputId": "8391f2a2-42be-49c1-cdd0-27fe50bc4924"
   },
   "source": [
    "#Install Ninja\n",
    "!pip install ninja"
   ],
   "execution_count": null,
   "outputs": [
    {
     "output_type": "stream",
     "text": [
      "Collecting ninja\n",
      "\u001B[?25l  Downloading https://files.pythonhosted.org/packages/1d/de/393468f2a37fc2c1dc3a06afc37775e27fde2d16845424141d4da62c686d/ninja-1.10.0.post2-py3-none-manylinux1_x86_64.whl (107kB)\n",
      "\r\u001B[K     |███                             | 10kB 14.3MB/s eta 0:00:01\r\u001B[K     |██████                          | 20kB 11.9MB/s eta 0:00:01\r\u001B[K     |█████████▏                      | 30kB 8.5MB/s eta 0:00:01\r\u001B[K     |████████████▏                   | 40kB 7.5MB/s eta 0:00:01\r\u001B[K     |███████████████▎                | 51kB 4.5MB/s eta 0:00:01\r\u001B[K     |██████████████████▎             | 61kB 5.0MB/s eta 0:00:01\r\u001B[K     |█████████████████████▍          | 71kB 5.1MB/s eta 0:00:01\r\u001B[K     |████████████████████████▍       | 81kB 5.4MB/s eta 0:00:01\r\u001B[K     |███████████████████████████▍    | 92kB 5.5MB/s eta 0:00:01\r\u001B[K     |██████████████████████████████▌ | 102kB 4.3MB/s eta 0:00:01\r\u001B[K     |████████████████████████████████| 112kB 4.3MB/s \n",
      "\u001B[?25hInstalling collected packages: ninja\n",
      "Successfully installed ninja-1.10.0.post2\n"
     ],
     "name": "stdout"
    }
   ]
  },
  {
   "cell_type": "code",
   "metadata": {
    "id": "OvMi7RFSD2r8"
   },
   "source": [
    "#Create Checkpoint Dir\n",
    "!mkdir 'checkpoint'"
   ],
   "execution_count": null,
   "outputs": []
  },
  {
   "cell_type": "code",
   "metadata": {
    "id": "YVGrS6qPq_Xr",
    "colab": {
     "base_uri": "https://localhost:8080/",
     "height": 103
    },
    "outputId": "a241f13d-8011-4d18-af5c-2c9ef1aa105e"
   },
   "source": [
    "#Download Official Weights\n",
    "import gdown\n",
    "\n",
    "url = 'https://drive.google.com/uc?id=1M2ci6iEZVixQdFaCSx4XWR4KTjw9q1Zq'\n",
    "output = 'checkpoint/stylegan2-ffhq-256.pt'\n",
    "gdown.download(url, output, quiet=False)"
   ],
   "execution_count": null,
   "outputs": [
    {
     "output_type": "stream",
     "text": [
      "Downloading...\n",
      "From: https://drive.google.com/uc?id=1M2ci6iEZVixQdFaCSx4XWR4KTjw9q1Zq\n",
      "To: /content/stylegan2-encoder-pytorch/checkpoint/stylegan2-ffhq-256.pt\n",
      "296MB [00:02, 136MB/s]\n"
     ],
     "name": "stderr"
    },
    {
     "output_type": "execute_result",
     "data": {
      "application/vnd.google.colaboratory.intrinsic+json": {
       "type": "string"
      },
      "text/plain": [
       "'checkpoint/stylegan2-ffhq-256.pt'"
      ]
     },
     "metadata": {
      "tags": []
     },
     "execution_count": 7
    }
   ]
  },
  {
   "cell_type": "code",
   "metadata": {
    "id": "hZjXBQICgkmI"
   },
   "source": [
    "#TRAINING"
   ],
   "execution_count": null,
   "outputs": []
  },
  {
   "cell_type": "code",
   "metadata": {
    "id": "dFXKlo1F7fGw"
   },
   "source": [
    "#Create dataset dirs\n",
    "!mkdir 'dataset_images'\n",
    "!mkdir 'dataset'"
   ],
   "execution_count": null,
   "outputs": []
  },
  {
   "cell_type": "code",
   "metadata": {
    "id": "4sUEmr19zneB"
   },
   "source": [
    "#pip install gdown"
   ],
   "execution_count": null,
   "outputs": []
  },
  {
   "cell_type": "code",
   "metadata": {
    "id": "UBpLYzaB7hNu",
    "colab": {
     "base_uri": "https://localhost:8080/",
     "height": 103
    },
    "outputId": "45a57b49-e621-47b8-a6f0-53577440397a"
   },
   "source": [
    "#Download FFHQ 256x256 dataset\n",
    "import gdown\n",
    "\n",
    "url = 'https://drive.google.com/uc?id=1KRzveLAJ0m1kLia2ALMcZzuJegYiTtqj'\n",
    "output = 'dataset_images/resized_256.zip'\n",
    "gdown.download(url, output, quiet=False)"
   ],
   "execution_count": null,
   "outputs": [
    {
     "output_type": "stream",
     "text": [
      "Downloading...\n",
      "From: https://drive.google.com/uc?id=1KRzveLAJ0m1kLia2ALMcZzuJegYiTtqj\n",
      "To: /content/stylegan2-encoder-pytorch/dataset_images/resized_256.zip\n",
      "2.05GB [00:20, 102MB/s] \n"
     ],
     "name": "stderr"
    },
    {
     "output_type": "execute_result",
     "data": {
      "application/vnd.google.colaboratory.intrinsic+json": {
       "type": "string"
      },
      "text/plain": [
       "'dataset_images/resized_256.zip'"
      ]
     },
     "metadata": {
      "tags": []
     },
     "execution_count": 9
    }
   ]
  },
  {
   "cell_type": "code",
   "metadata": {
    "id": "Mg7CT3utzWPM"
   },
   "source": [
    "#Unzip\n",
    "%cd dataset_images/\n",
    "!unzip resized_256.zip\n",
    "%cd .."
   ],
   "execution_count": null,
   "outputs": []
  },
  {
   "cell_type": "code",
   "metadata": {
    "colab": {
     "base_uri": "https://localhost:8080/"
    },
    "id": "9sCycax6zdJ3",
    "outputId": "486f2cf8-a0e4-4433-dc76-900bdb0549f0"
   },
   "source": [
    "#Remove\n",
    "%cd dataset_images/\n",
    "!rm resized_256.zip\n",
    "!rm -r __MACOSX\n",
    "%cd .."
   ],
   "execution_count": null,
   "outputs": [
    {
     "output_type": "stream",
     "text": [
      "/content/stylegan2-encoder-pytorch/dataset_images\n",
      "/content/stylegan2-encoder-pytorch\n"
     ],
     "name": "stdout"
    }
   ]
  },
  {
   "cell_type": "code",
   "metadata": {
    "colab": {
     "base_uri": "https://localhost:8080/"
    },
    "id": "IZ_t7cXh6gTl",
    "outputId": "b34aca76-e12c-4503-cf49-b426734f9d7e"
   },
   "source": [
    "#Create dataset\n",
    "!python dataset.py 'dataset_images' --out 'dataset' --size '256'"
   ],
   "execution_count": null,
   "outputs": [
    {
     "output_type": "stream",
     "text": [
      "Make dataset of image sizes: 256\n",
      "1000it [00:05, 186.15it/s]\n"
     ],
     "name": "stdout"
    }
   ]
  },
  {
   "cell_type": "code",
   "metadata": {
    "id": "LazejHUcALvR"
   },
   "source": [
    "!mkdir sample"
   ],
   "execution_count": null,
   "outputs": []
  },
  {
   "cell_type": "code",
   "metadata": {
    "id": "SDYH-L8CgmDV"
   },
   "source": [
    "#Train\n",
    "!python train_encoder.py --data 'dataset' --g_ckpt 'checkpoint/stylegan2-ffhq-256.pt' --batch 8 --iter 1000000\n",
    "#batch % len(dataset) == 0\n",
    "#--e_ckpt 'checkpoint/encoder_000100.pt'"
   ],
   "execution_count": null,
   "outputs": []
  },
  {
   "cell_type": "code",
   "metadata": {
    "id": "vLO6gdLC8uEr"
   },
   "source": [
    ""
   ],
   "execution_count": null,
   "outputs": []
  },
  {
   "cell_type": "code",
   "metadata": {
    "id": "Iap5t3Ub8uHW"
   },
   "source": [
    "#======================"
   ],
   "execution_count": null,
   "outputs": []
  },
  {
   "cell_type": "code",
   "metadata": {
    "id": "bBkrduvV8uKE"
   },
   "source": [
    ""
   ],
   "execution_count": null,
   "outputs": []
  },
  {
   "cell_type": "code",
   "metadata": {
    "id": "hndn7Sw_8uMU"
   },
   "source": [
    ""
   ],
   "execution_count": null,
   "outputs": []
  },
  {
   "cell_type": "code",
   "metadata": {
    "id": "iF2XzIkB4bkJ"
   },
   "source": [
    "import os\n",
    "import shutil\n",
    "\n",
    "test_dir = '/content/stylegan2-encoder-pytorch/dataset_images/resized'\n",
    "resized_dir = '/content/stylegan2-encoder-pytorch/test'\n",
    "\n",
    "#resized_dir test_dir\n",
    "\n",
    "for i, file_name in enumerate(os.listdir(resized_dir)):\n",
    "  source_path = os.path.join(resized_dir, file_name)\n",
    "  dest_path = os.path.join(test_dir, file_name)\n",
    "  shutil.move(source_path, dest_path)\n",
    "  if i >= 0:\n",
    "    break"
   ],
   "execution_count": null,
   "outputs": []
  },
  {
   "cell_type": "code",
   "metadata": {
    "colab": {
     "base_uri": "https://localhost:8080/"
    },
    "id": "C-qdiq0Q7-Gu",
    "outputId": "f3ae5d17-a617-460c-af9b-9376f6730b31"
   },
   "source": [
    "import os\n",
    "len(os.listdir('/content/stylegan2-encoder-pytorch/dataset_images/resized'))"
   ],
   "execution_count": null,
   "outputs": [
    {
     "output_type": "execute_result",
     "data": {
      "text/plain": [
       "1000"
      ]
     },
     "metadata": {
      "tags": []
     },
     "execution_count": 15
    }
   ]
  },
  {
   "cell_type": "code",
   "metadata": {
    "id": "q85xzOY48m33"
   },
   "source": [
    ""
   ],
   "execution_count": null,
   "outputs": []
  }
 ]
}